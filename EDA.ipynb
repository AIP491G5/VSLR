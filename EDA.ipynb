{
 "cells": [
  {
   "cell_type": "markdown",
   "id": "ac7f0cc6",
   "metadata": {},
   "source": [
    "# Exploratory Data Analysis – `Label.csv`\n",
    "# 1.Introduction\n",
    "\n",
    "**Mục tiêu**  \n",
    "- Hiểu nhanh cấu trúc và chất lượng dữ liệu nhãn (`STT`, `VIDEO`, `TEXT`) thu thập từ trang QIPEDC.  \n",
    "- Xác định mức độ cân bằng nhãn, độ dài từ/cụm, sự phổ biến của các cụm “thường ngày”.  \n",
    "- Nghĩ ra các bước tiền xử lý/phân mẫu phù hợp (train / test split, loại bỏ ngoại lệ, v.v.) trước khi huấn luyện mô hình nhận diện Ngôn ngữ Ký hiệu Việt Nam.\n",
    "\n",
    "> **Tóm tắt dữ liệu gốc**  \n",
    "> * `Label.csv` – toàn bộ 4 000+ video, mỗi dòng chứa:  \n",
    ">   * `STT` — số thứ tự  \n",
    ">   * `VIDEO` — tên file `.mp4`  \n",
    ">   * `TEXT` — từ/cụm nghĩa tiếng Việt\n"
   ]
  },
  {
   "cell_type": "code",
   "execution_count": 1,
   "id": "63887bc7",
   "metadata": {},
   "outputs": [],
   "source": [
    "import pandas as pd\n",
    "import numpy as np\n",
    "import re\n",
    "import unicodedata\n",
    "import matplotlib.pyplot as plt\n",
    "import seaborn as sns\n",
    "from sklearn.model_selection import train_test_split"
   ]
  },
  {
   "cell_type": "markdown",
   "id": "b12f59f4",
   "metadata": {},
   "source": [
    "### 2. Đọc file gốc và kiểm tra kích thước tập dữ liệu\n",
    "* Hiển thị 5 dòng đầu để đảm bảo đọc đúng cột và encoding.\n",
    "* In `shape` để biết có bao nhiêu video/nhãn.\n"
   ]
  },
  {
   "cell_type": "code",
   "execution_count": 2,
   "id": "d22edb80",
   "metadata": {},
   "outputs": [],
   "source": [
    "#  Đọc file gốc\n",
    "df = pd.read_csv('Dataset/Text/Label.csv')\n"
   ]
  },
  {
   "cell_type": "code",
   "execution_count": 3,
   "id": "c1e61d3e",
   "metadata": {},
   "outputs": [
    {
     "data": {
      "text/plain": [
       "Index(['STT', 'VIDEO', 'TEXT'], dtype='object')"
      ]
     },
     "execution_count": 3,
     "metadata": {},
     "output_type": "execute_result"
    }
   ],
   "source": [
    "df.columns"
   ]
  },
  {
   "cell_type": "code",
   "execution_count": 4,
   "id": "986fed3e",
   "metadata": {},
   "outputs": [
    {
     "data": {
      "text/html": [
       "<div>\n",
       "<style scoped>\n",
       "    .dataframe tbody tr th:only-of-type {\n",
       "        vertical-align: middle;\n",
       "    }\n",
       "\n",
       "    .dataframe tbody tr th {\n",
       "        vertical-align: top;\n",
       "    }\n",
       "\n",
       "    .dataframe thead th {\n",
       "        text-align: right;\n",
       "    }\n",
       "</style>\n",
       "<table border=\"1\" class=\"dataframe\">\n",
       "  <thead>\n",
       "    <tr style=\"text-align: right;\">\n",
       "      <th></th>\n",
       "      <th>STT</th>\n",
       "      <th>VIDEO</th>\n",
       "      <th>TEXT</th>\n",
       "    </tr>\n",
       "  </thead>\n",
       "  <tbody>\n",
       "    <tr>\n",
       "      <th>0</th>\n",
       "      <td>1</td>\n",
       "      <td>D0006.mp4</td>\n",
       "      <td>Ma Cao</td>\n",
       "    </tr>\n",
       "    <tr>\n",
       "      <th>1</th>\n",
       "      <td>2</td>\n",
       "      <td>D0001N.mp4</td>\n",
       "      <td>địa chỉ</td>\n",
       "    </tr>\n",
       "    <tr>\n",
       "      <th>2</th>\n",
       "      <td>3</td>\n",
       "      <td>D0011.mp4</td>\n",
       "      <td>Đu Bai (nước Đu Bai)</td>\n",
       "    </tr>\n",
       "    <tr>\n",
       "      <th>3</th>\n",
       "      <td>4</td>\n",
       "      <td>D0009.mp4</td>\n",
       "      <td>phương Tây</td>\n",
       "    </tr>\n",
       "    <tr>\n",
       "      <th>4</th>\n",
       "      <td>5</td>\n",
       "      <td>D0005B.mp4</td>\n",
       "      <td>Miến Điện (nước Mi-an-ma)</td>\n",
       "    </tr>\n",
       "  </tbody>\n",
       "</table>\n",
       "</div>"
      ],
      "text/plain": [
       "   STT       VIDEO                       TEXT\n",
       "0    1   D0006.mp4                     Ma Cao\n",
       "1    2  D0001N.mp4                    địa chỉ\n",
       "2    3   D0011.mp4       Đu Bai (nước Đu Bai)\n",
       "3    4   D0009.mp4                 phương Tây\n",
       "4    5  D0005B.mp4  Miến Điện (nước Mi-an-ma)"
      ]
     },
     "execution_count": 4,
     "metadata": {},
     "output_type": "execute_result"
    }
   ],
   "source": [
    "# Xem dữ liệu đầu tiên\n",
    "df.head()\n"
   ]
  },
  {
   "cell_type": "code",
   "execution_count": 5,
   "id": "46aeac9c",
   "metadata": {},
   "outputs": [],
   "source": [
    "# Đổi cột index thành cột STT\n",
    "df = pd.read_csv('Dataset/Text/Label.csv' ,index_col='STT')\n"
   ]
  },
  {
   "cell_type": "markdown",
   "id": "6e91b87d",
   "metadata": {},
   "source": [
    "### 3. Kiểm tra giá trị thiếu và trùng lặp\n",
    "* Xác định xem có bản ghi nào thiếu cột `TEXT` hoặc `VIDEO`.  \n",
    "* Loại bỏ trùng lặp nếu có (`STT` lặp lại hoặc cùng tên video).\n"
   ]
  },
  {
   "cell_type": "code",
   "execution_count": 6,
   "id": "49f0f03f",
   "metadata": {},
   "outputs": [
    {
     "name": "stdout",
     "output_type": "stream",
     "text": [
      "<class 'pandas.core.frame.DataFrame'>\n",
      "Index: 4362 entries, 1 to 4362\n",
      "Data columns (total 2 columns):\n",
      " #   Column  Non-Null Count  Dtype \n",
      "---  ------  --------------  ----- \n",
      " 0   VIDEO   4362 non-null   object\n",
      " 1   TEXT    4362 non-null   object\n",
      "dtypes: object(2)\n",
      "memory usage: 102.2+ KB\n"
     ]
    }
   ],
   "source": [
    "# Dataframe info\n",
    "df.info()"
   ]
  },
  {
   "cell_type": "code",
   "execution_count": 7,
   "id": "c61b499f",
   "metadata": {},
   "outputs": [
    {
     "data": {
      "text/html": [
       "<div>\n",
       "<style scoped>\n",
       "    .dataframe tbody tr th:only-of-type {\n",
       "        vertical-align: middle;\n",
       "    }\n",
       "\n",
       "    .dataframe tbody tr th {\n",
       "        vertical-align: top;\n",
       "    }\n",
       "\n",
       "    .dataframe thead th {\n",
       "        text-align: right;\n",
       "    }\n",
       "</style>\n",
       "<table border=\"1\" class=\"dataframe\">\n",
       "  <thead>\n",
       "    <tr style=\"text-align: right;\">\n",
       "      <th></th>\n",
       "      <th>VIDEO</th>\n",
       "      <th>TEXT</th>\n",
       "    </tr>\n",
       "  </thead>\n",
       "  <tbody>\n",
       "    <tr>\n",
       "      <th>count</th>\n",
       "      <td>4362</td>\n",
       "      <td>4362</td>\n",
       "    </tr>\n",
       "    <tr>\n",
       "      <th>unique</th>\n",
       "      <td>4362</td>\n",
       "      <td>3315</td>\n",
       "    </tr>\n",
       "    <tr>\n",
       "      <th>top</th>\n",
       "      <td>D0006.mp4</td>\n",
       "      <td>thương yêu</td>\n",
       "    </tr>\n",
       "    <tr>\n",
       "      <th>freq</th>\n",
       "      <td>1</td>\n",
       "      <td>6</td>\n",
       "    </tr>\n",
       "  </tbody>\n",
       "</table>\n",
       "</div>"
      ],
      "text/plain": [
       "            VIDEO        TEXT\n",
       "count        4362        4362\n",
       "unique       4362        3315\n",
       "top     D0006.mp4  thương yêu\n",
       "freq            1           6"
      ]
     },
     "execution_count": 7,
     "metadata": {},
     "output_type": "execute_result"
    }
   ],
   "source": [
    "# Xem số lượng các nhãn\n",
    "df.describe()"
   ]
  },
  {
   "cell_type": "markdown",
   "id": "0618ac47",
   "metadata": {},
   "source": [
    "### 4. Thống kê tần suất xuất hiện của mỗi nhãn (`TEXT`)\n",
    "* Mục tiêu: xem nhãn cân bằng tới mức nào; phát hiện nhãn hiếm.  \n",
    "* Kết quả được lưu trong biến `freq` để dùng về sau.\n"
   ]
  },
  {
   "cell_type": "code",
   "execution_count": 8,
   "id": "de7d7738",
   "metadata": {},
   "outputs": [
    {
     "name": "stdout",
     "output_type": "stream",
     "text": [
      "Các nhãn có số lần xuất hiện > 1:\n",
      "TEXT\n",
      "thương yêu      6\n",
      "đặc biệt        4\n",
      "thành lập       4\n",
      "thường xuyên    4\n",
      "tưởng tượng     4\n",
      "               ..\n",
      "chơi            2\n",
      "điều phối       2\n",
      "sơ đồ           2\n",
      "khó khăn        2\n",
      "quả điều        2\n",
      "Name: count, Length: 550, dtype: int64\n"
     ]
    }
   ],
   "source": [
    "# Hiển thị tất cả các nhãn có số lần xuất hiện > 1 \n",
    "label_counts = df['TEXT'].value_counts()\n",
    "labels_gt1 = label_counts[label_counts > 1]\n",
    "print(\"Các nhãn có số lần xuất hiện > 1:\")\n",
    "print(labels_gt1)"
   ]
  },
  {
   "cell_type": "code",
   "execution_count": 9,
   "id": "40ea8688",
   "metadata": {},
   "outputs": [
    {
     "data": {
      "image/png": "[encoded data removed]",
      "text/plain": [
       "<Figure size 1000x600 with 1 Axes>"
      ]
     },
     "metadata": {},
     "output_type": "display_data"
    }
   ],
   "source": [
    "# Top 10 nhãn xuất hiện nhiều nhất\n",
    "plt.figure(figsize=(10, 6))\n",
    "df['TEXT'].value_counts().head(10).plot(kind='barh')\n",
    "plt.title('Top 10 nhãn xuất hiện nhiều nhất')\n",
    "plt.xlabel('Số lần xuất hiện')\n",
    "plt.ylabel('TEXT')\n",
    "plt.show()"
   ]
  },
  {
   "cell_type": "markdown",
   "id": "4e5eb48c",
   "metadata": {},
   "source": [
    "### 5. Xây dựng hàm `is_everyday()`  \n",
    "Lọc bỏ:\n",
    "* nhãn quá ngắn (≤ 1 ký tự)  \n",
    "* nhãn chứa số/ngoặc, địa danh, từ chuyên ngành  \n",
    "* cụm > 4 từ (quá dài, ít dùng trong hội thoại ngắn)  \n",
    "→ Giữ lại các cụm giao tiếp phổ biến.\n",
    "\n",
    "Giải thích nhanh về bộ lọc\n",
    "\n",
    "| Tiêu chí                         | Mục đích                                          |\n",
    "| -------------------------------- | ------------------------------------------------- |\n",
    "| **Không ngoặc, không số**        | Loại cụm chứa *ghi chú* (nước …) hoặc mã          |\n",
    "| **Không “nước/tỉnh/…”**          | Tránh địa danh – ít dùng trong câu ngắn hằng ngày |\n",
    "| **Không > 4 từ**                 | Giữ cụm gọn, dễ đệm vào hội thoại                 |\n",
    "| **Không thuật ngữ “kĩ thuật/…”** | Loại khái niệm chuyên ngành                       |\n"
   ]
  },
  {
   "cell_type": "code",
   "execution_count": 10,
   "id": "6d67fdee",
   "metadata": {},
   "outputs": [],
   "source": [
    "\n",
    "# ---------- 2) Đếm tần suất từng nhãn ----------\n",
    "freq = df['TEXT'].value_counts()      # Series: TEXT -> COUNT\n",
    "\n",
    "# ---------- 3) Hàm đánh giá \"tính hội thoại\" ----------\n",
    "def is_everyday(text: str) -> bool:\n",
    "    t = text.strip()\n",
    "\n",
    "    # bỏ cụm ngắn hoặc 1 ký tự\n",
    "    if len(t) <= 1:\n",
    "        return False\n",
    "    # bỏ mục có ngoặc, chữ-số\n",
    "    if '(' in t or ')' in t or re.search(r'\\d', t):\n",
    "        return False\n",
    "    # bỏ tên quốc gia / địa danh\n",
    "    if any(word in t.lower()\n",
    "           for word in ['nước', 'tỉnh', 'thành phố', 'quốc gia']):\n",
    "        return False\n",
    "    # bỏ cụm chuyên ngành\n",
    "    if any(word in t.lower()\n",
    "           for word in ['kĩ thuật', 'khoa học', 'công nghiệp']):\n",
    "        return False\n",
    "    # bỏ chuỗi > 4 từ (quá dài, ít dùng thành “từ đơn”)\n",
    "    if len(t.split()) > 4:\n",
    "        return False\n",
    "    return True\n"
   ]
  },
  {
   "cell_type": "markdown",
   "id": "a48223a6",
   "metadata": {},
   "source": [
    "### 6. Lấy 50 nhãn thỏa điều kiện  \n",
    "* Chỉ giữ nhãn xuất hiện ≥ 2 lần (`candidates`)  \n",
    "* Áp dụng bộ lọc “everyday” → `top50`  \n",
    "* Thêm cột `STT` (1 → 50) để tiện quan sát.\n"
   ]
  },
  {
   "cell_type": "code",
   "execution_count": null,
   "id": "713e190a",
   "metadata": {},
   "outputs": [
    {
     "name": "stdout",
     "output_type": "stream",
     "text": [
      " STT              TEXT  COUNT\n",
      "   1        thương yêu      6\n",
      "   2          đặc biệt      4\n",
      "   3         thành lập      4\n",
      "   4      thường xuyên      4\n",
      "   5       tưởng tượng      4\n",
      "   6            bộ đội      3\n",
      "   7       bình thường      3\n",
      "   8           sữa bột      3\n",
      "   9            sữa dê      3\n",
      "  10            sữa bò      3\n",
      "  11          bón phân      3\n",
      "  12             sơ mi      3\n",
      "  13          bố dượng      3\n",
      "  14        cây cổ thụ      3\n",
      "  15          bông hoa      3\n",
      "  16           sữa hộp      3\n",
      "  17          sinh sản      3\n",
      "  18      bốt cảnh sát      3\n",
      "  19           bột màu      3\n",
      "  20          bốt điện      3\n",
      "  21           sinh đẻ      3\n",
      "  22                cỏ      3\n",
      "  23               sữa      3\n",
      "  24          tái phạm      3\n",
      "  25           bình an      3\n",
      "  26           tha thứ      3\n",
      "  27          thăm hỏi      3\n",
      "  28 bảo vệ môi trường      3\n",
      "  29         tham quan      3\n",
      "  30             tháng      3\n",
      "  31           tham dự      3\n",
      "  32           thái độ      3\n",
      "  33            bắn bi      3\n",
      "  34           bắp ngô      3\n",
      "  35            bìa vở      3\n",
      "  36           bắt đền      3\n",
      "  37     Tết Trung thu      3\n",
      "  38            bẻ ngô      3\n",
      "  39           bé trai      3\n",
      "  40           tấm vải      3\n",
      "  41           tàu hoả      3\n",
      "  42          bụi phấn      3\n",
      "  43         buổi sáng      3\n",
      "  44          buổi đêm      3\n",
      "  45            chả cá      3\n",
      "  46          ra ngoài      3\n",
      "  47          quyển vở      3\n",
      "  48         quyền lợi      3\n",
      "  49        quyết định      3\n",
      "  50              chảo      3\n"
     ]
    }
   ],
   "source": [
    "\n",
    "# ---------- Lọc & lấy Top-50 ----------\n",
    "candidates = freq[freq > 1]                      \n",
    "everyday   = candidates[candidates.index.map(is_everyday)]\n",
    "\n",
    "top50 = (\n",
    "    everyday.head(50)            \n",
    "           .reset_index()        \n",
    ")\n",
    "\n",
    "# Đặt lại tên cột cho rõ ràng\n",
    "top50.columns = ['TEXT', 'COUNT']  \n",
    "\n",
    "# ---------- Thêm cột STT ----------\n",
    "top50.insert(0, 'STT', range(1, len(top50) + 1))   \n",
    "\n",
    "print(top50.to_string(index=False))\n"
   ]
  },
  {
   "cell_type": "markdown",
   "id": "5597a65d",
   "metadata": {},
   "source": [
    "### 7. Thống kê mô tả và lưu danh sách Top-50  \n",
    "* Hiển thị `describe()` cho cột `COUNT`.  \n",
    "* Tính độ dài chuỗi (`WORD_LEN`) và độ dài *trung bình*.  \n",
    "* Lưu file `Dataset/Text/top50_daily.csv` để dùng lại.\n"
   ]
  },
  {
   "cell_type": "code",
   "execution_count": 12,
   "id": "51a44328",
   "metadata": {},
   "outputs": [
    {
     "name": "stdout",
     "output_type": "stream",
     "text": [
      "\n",
      "✅ Đã ghi file Dataset/Text/top50_daily.csv\n"
     ]
    }
   ],
   "source": [
    "# ---------- Hiển thị & lưu ----------\n",
    "\n",
    "top50.to_csv('Dataset/Text/top50_daily.csv',\n",
    "             index=False, encoding='utf-8')\n",
    "print('\\n✅ Đã ghi file Dataset/Text/top50_daily.csv')\n",
    "    "
   ]
  },
  {
   "cell_type": "code",
   "execution_count": null,
   "id": "af9a01b6",
   "metadata": {},
   "outputs": [
    {
     "name": "stdout",
     "output_type": "stream",
     "text": [
      "\n",
      "=== SUMMARY COUNT ===\n",
      "count    50.000000\n",
      "mean      3.140000\n",
      "std       0.495284\n",
      "min       3.000000\n",
      "25%       3.000000\n",
      "50%       3.000000\n",
      "75%       3.000000\n",
      "max       6.000000\n",
      "Name: COUNT, dtype: float64\n",
      "\n",
      "Tổng số mục   : 50\n",
      "Độ dài TB (ký tự): 7.8\n"
     ]
    }
   ],
   "source": [
    "# ---------- Thống kê độ dài từ ----------\n",
    "top50['WORD_LEN'] = top50['TEXT'].str.len()\n",
    "\n",
    "summary = top50['COUNT'].describe()\n",
    "print('\\n=== SUMMARY COUNT ===')\n",
    "print(summary)\n",
    "print('\\nTổng số mục   :', len(top50))\n",
    "print('Độ dài TB (ký tự):', round(top50['WORD_LEN'].mean(), 2))"
   ]
  },
  {
   "cell_type": "markdown",
   "id": "47d4e853",
   "metadata": {},
   "source": [
    "### 8. Histogram – Phân bố tần suất xuất hiện  \n",
    "Biểu đồ cho thấy bao nhiêu nhãn xuất hiện 3, 4, 5 … lần.  \n",
    "Điều này giúp đánh giá độ cân bằng của bộ nhãn Top-50.\n"
   ]
  },
  {
   "cell_type": "code",
   "execution_count": 14,
   "id": "416ede75",
   "metadata": {},
   "outputs": [
    {
     "data": {
      "image/png": "[encoded data removed]",
      "text/plain": [
       "<Figure size 640x480 with 1 Axes>"
      ]
     },
     "metadata": {},
     "output_type": "display_data"
    }
   ],
   "source": [
    "plt.figure()\n",
    "plt.hist(top50['COUNT'],\n",
    "         bins=range(int(top50['COUNT'].min()),\n",
    "                    int(top50['COUNT'].max()) + 2),\n",
    "         edgecolor='black')\n",
    "plt.title('Distribution of Text Frequencies')\n",
    "plt.xlabel('Frequency (COUNT)')\n",
    "plt.ylabel('Number of Texts')\n",
    "plt.tight_layout()"
   ]
  },
  {
   "cell_type": "markdown",
   "id": "8d73fd14",
   "metadata": {},
   "source": [
    "### 9. Histogram – Phân bố độ dài ký tự  \n",
    "Mục tiêu: kiểm tra tính “ngắn gọn” của nhãn.  \n",
    "Đa số rơi vào 6–9 ký tự; quá dài/ quá ngắn là ngoại lệ.\n"
   ]
  },
  {
   "cell_type": "code",
   "execution_count": 15,
   "id": "b0778efa",
   "metadata": {},
   "outputs": [
    {
     "data": {
      "image/png": "[encoded data removed]",
      "text/plain": [
       "<Figure size 640x480 with 1 Axes>"
      ]
     },
     "metadata": {},
     "output_type": "display_data"
    }
   ],
   "source": [
    "plt.figure()\n",
    "plt.hist(top50['WORD_LEN'],\n",
    "         bins=range(int(top50['WORD_LEN'].min()),\n",
    "                    int(top50['WORD_LEN'].max()) + 2),\n",
    "         edgecolor='black')\n",
    "plt.title('Distribution of Word Lengths')\n",
    "plt.xlabel('Word Length (characters)')\n",
    "plt.ylabel('Number of Texts')\n",
    "plt.tight_layout()"
   ]
  }
 ],
 "metadata": {
  "kernelspec": {
   "display_name": "test_env",
   "language": "python",
   "name": "python3"
  },
  "language_info": {
   "codemirror_mode": {
    "name": "ipython",
    "version": 3
   },
   "file_extension": ".py",
   "mimetype": "text/x-python",
   "name": "python",
   "nbconvert_exporter": "python",
   "pygments_lexer": "ipython3",
   "version": "3.10.0"
  }
 },
 "nbformat": 4,
 "nbformat_minor": 5
}
