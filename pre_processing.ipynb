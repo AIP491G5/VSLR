{
 "cells": [
  {
   "cell_type": "code",
   "execution_count": null,
   "id": "c72cce4d",
   "metadata": {
    "vscode": {
     "languageId": "plaintext"
    }
   },
   "outputs": [],
   "source": [
    "#open file label\n"
   ]
  }
 ],
 "metadata": {
  "language_info": {
   "name": "python"
  }
 },
 "nbformat": 4,
 "nbformat_minor": 5
}
