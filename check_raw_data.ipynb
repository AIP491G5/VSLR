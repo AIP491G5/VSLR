{
 "cells": [
  {
   "cell_type": "code",
   "execution_count": 14,
   "id": "336b95bd",
   "metadata": {},
   "outputs": [
    {
     "data": {
      "text/plain": [
       "0    D0001T.mp4\n",
       "1    D0001B.mp4\n",
       "2     D0002.mp4\n",
       "3     D0004.mp4\n",
       "4    D0005B.mp4\n",
       "Name: VIDEO, dtype: object"
      ]
     },
     "execution_count": 14,
     "metadata": {},
     "output_type": "execute_result"
    }
   ],
   "source": [
    "import numpy as np\n",
    "import os\n",
    "import pandas as pd\n",
    "\n",
    "df = pd.read_csv('Label.csv')\n",
    "df['VIDEO'].head()"
   ]
  },
  {
   "cell_type": "code",
   "execution_count": null,
   "id": "08df0275",
   "metadata": {},
   "outputs": [
    {
     "name": "stdout",
     "output_type": "stream",
     "text": [
      "Video file W03042B.mp4 does not exist in the 'videos' directory. 22\n",
      "Video file W03042N.mp4 does not exist in the 'videos' directory. 22\n",
      "Video file W03042T.mp4 does not exist in the 'videos' directory. 22\n",
      "Total number of video files that do not exist: 3\n",
      "Total number of video files that exist: 154\n",
      "List of video files that do not exist:\n",
      "W03042B.mp4\n",
      "W03042N.mp4\n",
      "W03042T.mp4\n"
     ]
    }
   ],
   "source": [
    "file_not_exist = []\n",
    "exit_count = 0\n",
    "not_exist_count = 0\n",
    "for i in range(len(df)):\n",
    "    video_names = df['VIDEO'][i]\n",
    "    video_path = os.path.join('D/Video', video_name)\n",
    "    for video_name in video_names.split(','):\n",
    "        video_name = video_name.strip()\n",
    "        if not os.path.exists(video_path):\n",
    "            print(f\"Video file {video_name} does not exist in the 'videos' directory. {i}\")\n",
    "            not_exist_count += 1\n",
    "            file_not_exist.append(video_name)\n",
    "        else:\n",
    "            exit_count += 1\n",
    "print(f\"Total number of video files that do not exist: {not_exist_count}\")\n",
    "print(f\"Total number of video files that exist: {exit_count}\")\n",
    "if not_exist_count > 0:\n",
    "    print(\"List of video files that do not exist:\")\n",
    "    for file in file_not_exist:\n",
    "        print(file)"
   ]
  }
 ],
 "metadata": {
  "kernelspec": {
   "display_name": "vslr",
   "language": "python",
   "name": "python3"
  },
  "language_info": {
   "codemirror_mode": {
    "name": "ipython",
    "version": 3
   },
   "file_extension": ".py",
   "mimetype": "text/x-python",
   "name": "python",
   "nbconvert_exporter": "python",
   "pygments_lexer": "ipython3",
   "version": "3.10.16"
  }
 },
 "nbformat": 4,
 "nbformat_minor": 5
}
