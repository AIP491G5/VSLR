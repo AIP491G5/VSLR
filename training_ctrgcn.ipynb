{
 "cells": [
  {
   "cell_type": "code",
   "execution_count": null,
   "id": "a65e8d36",
   "metadata": {},
   "outputs": [],
   "source": [
    "import pandas as pd\n",
    "import cv2\n",
    "import os\n",
    "import numpy as np\n",
    "import torch\n",
    "import torch.nn as nn\n",
    "from torch.utils.data import Dataset, DataLoader, ConcatDataset\n",
    "from sklearn.metrics import f1_score\n",
    "import torch.nn.functional as F\n",
    "from tqdm import trange, tqdm\n",
    "from ctrgcn import Model as CTRGCN\n",
    "# Đọc file CSV thành DataFrame\n",
    "df = pd.read_csv(\"top50_daily.csv\")\n",
    "df.head()\n"
   ]
  }
 ],
 "metadata": {
  "language_info": {
   "name": "python"
  }
 },
 "nbformat": 4,
 "nbformat_minor": 5
}
